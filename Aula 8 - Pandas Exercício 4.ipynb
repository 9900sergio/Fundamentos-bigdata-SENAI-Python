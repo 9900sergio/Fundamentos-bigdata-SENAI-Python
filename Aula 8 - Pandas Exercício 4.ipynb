{
 "cells": [
  {
   "cell_type": "markdown",
   "metadata": {},
   "source": [
    "# Exercício 04 – Criando relatórios em função do arquivo dados-vendas.xlsx.\n",
    "\n",
    "a) Crie um dataframe, utilizando o arquivo dados-vendas.xlsx. Crie data frames para dividir a planilha vendas em 4 arquivos. São eles:\n",
    "\n",
    "- Tabela Fato\n",
    "\n",
    "- Tabela Produtos \n",
    "\n",
    "- Tabela Lojas\n",
    "\n",
    "- Tabela Vendedor"
   ]
  },
  {
   "cell_type": "code",
   "execution_count": null,
   "metadata": {},
   "outputs": [],
   "source": [
    "# Importar a biblioteca do Pandas\n",
    "import pandas as pd\n",
    "\n",
    "# Mapear o local do documento fonte\n",
    "caminho = 'C:\\\\Users\\\\Administrador\\\\Documents\\\\Modelos Personalizados do Office\\\\Rafael Nery - Fundamentos de Big Data e Data Analytics com Python\\\\003 - Arquivos\\\\'\n",
    "arquivo = 'dados-vendas.xlsx'\n",
    "\n",
    "# Atribuir os dados deste arquivo em um Data Frame\n",
    "base= pd.read_excel(caminho + arquivo, sheet_name= 'Vendas')\n",
    "\n",
    "# Exibir os cabeçalhos das colunas\n",
    "base.head()"
   ]
  },
  {
   "cell_type": "code",
   "execution_count": null,
   "metadata": {},
   "outputs": [],
   "source": [
    "# Criando a Tabela Fato com as colunas:\n",
    "\n",
    "df_dados = base[['ID-Produto','Loja','ID-Vendedor','Data Venda','ValorVenda']]\n",
    "\n",
    "# Renomear a coluna loja para ID-Loja\n",
    "df_dados = df_dados.rename(columns={'Loja':'ID-Loja'})\n",
    "\n",
    "df_dados.head()\n",
    "\n",
    "# Salvar arquivo na pasta Dados_Vendas\n",
    "caminho_novo = caminho + 'dados_vendas\\\\'\n",
    "arquivo = 'Tabela Fato.xlsx'\n",
    "\n",
    "df_dados.to_excel(caminho_novo + arquivo, index= False)\n"
   ]
  },
  {
   "cell_type": "code",
   "execution_count": null,
   "metadata": {},
   "outputs": [],
   "source": [
    "# Tabela Produtos\n",
    "df_dados = base[['ID-Produto','Produto','Categoria','Segmento','Fabricante']]\n",
    "\n",
    "df_dados.head()\n",
    "caminho_novo = caminho + 'dados_vendas\\\\'\n",
    "arquivo = 'Tabela Produtos.xlsx'\n",
    "\n",
    "df_dados.to_excel(caminho_novo + arquivo, index= False)"
   ]
  },
  {
   "cell_type": "code",
   "execution_count": null,
   "metadata": {},
   "outputs": [],
   "source": [
    "# Tabela Lojas\n",
    "df_dados = base[['Loja','Cidade','Estado']]\n",
    "\n",
    "df_dados = df_dados.drop_duplicates()\n",
    "\n",
    "df_dados = df_dados.rename(columns={'Loja':'ID-Loja'})\n",
    "\n",
    "df_dados.head()\n",
    "\n",
    "caminho_novo = caminho + 'dados_vendas\\\\'\n",
    "arquivo = 'Tabela Lojas.xlsx'\n",
    "\n",
    "df_dados.to_excel(caminho_novo + arquivo, index=False)"
   ]
  },
  {
   "cell_type": "code",
   "execution_count": null,
   "metadata": {},
   "outputs": [],
   "source": [
    "# Tabela Vendedor\n",
    "\n",
    "df_dados = base[['ID-Vendedor','Vendedor']]\n",
    "\n",
    "caminho_novo = caminho + 'dados_vendas\\\\'\n",
    "arquivo = 'Tabela Vendedor.xlsx'\n",
    "\n",
    "df_dados.to_excel(caminho_novo + arquivo, index= False)"
   ]
  }
 ],
 "metadata": {
  "kernelspec": {
   "display_name": "base",
   "language": "python",
   "name": "python3"
  },
  "language_info": {
   "codemirror_mode": {
    "name": "ipython",
    "version": 3
   },
   "file_extension": ".py",
   "mimetype": "text/x-python",
   "name": "python",
   "nbconvert_exporter": "python",
   "pygments_lexer": "ipython3",
   "version": "3.11.3"
  },
  "orig_nbformat": 4
 },
 "nbformat": 4,
 "nbformat_minor": 2
}
