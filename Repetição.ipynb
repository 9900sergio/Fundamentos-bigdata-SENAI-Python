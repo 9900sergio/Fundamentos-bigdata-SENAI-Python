{
 "cells": [
  {
   "cell_type": "markdown",
   "metadata": {},
   "source": [
    "#Estrutura de Repetição\n"
   ]
  },
  {
   "cell_type": "code",
   "execution_count": 1,
   "metadata": {},
   "outputs": [
    {
     "name": "stdout",
     "output_type": "stream",
     "text": [
      "Abacaxi\n",
      "Laranja\n",
      "Goiaba\n",
      "Banana\n"
     ]
    }
   ],
   "source": [
    "frutas = ['Abacaxi','Laranja','Goiaba','Banana']\n",
    "for fruta in frutas:\n",
    "    print(fruta)"
   ]
  },
  {
   "cell_type": "markdown",
   "metadata": {},
   "source": [
    "#Exercicio 01"
   ]
  },
  {
   "cell_type": "code",
   "execution_count": 2,
   "metadata": {},
   "outputs": [
    {
     "name": "stdout",
     "output_type": "stream",
     "text": [
      "0\n",
      "1\n",
      "2\n",
      "3\n",
      "4\n",
      "5\n",
      "6\n",
      "7\n",
      "8\n",
      "9\n",
      "10\n"
     ]
    }
   ],
   "source": [
    "#'Exercício 01 – crie uma estrutura de repetição para imprimir valores de 0 a 10\n",
    "lista = [0,1,2,3,4,5,6,7,8,9,10]\n",
    "for i in lista:\n",
    "    print (i)"
   ]
  },
  {
   "cell_type": "code",
   "execution_count": 5,
   "metadata": {},
   "outputs": [
    {
     "name": "stdout",
     "output_type": "stream",
     "text": [
      "Tabuada do numero 356\n",
      "356 X 1 = 356\n",
      "356 X 2 = 712\n",
      "356 X 3 = 1068\n",
      "356 X 4 = 1424\n",
      "356 X 5 = 1780\n",
      "356 X 6 = 2136\n",
      "356 X 7 = 2492\n",
      "356 X 8 = 2848\n",
      "356 X 9 = 3204\n",
      "356 X 10 = 3560\n"
     ]
    }
   ],
   "source": [
    "#Exercício 12 - Desenvolva um gerador de tabuada, capaz de gerar a tabuada de qualquer número inteiro entre 1 a 10.O usuário deve informar de qual numero ele deseja ver a tabuada. A saída deve ser conforme o exemplo abaixo:\n",
    "lista = [1,2,3,4,5,6,7,8,9,10]\n",
    "i = int(input('Digite o numero:'))\n",
    "print(f'Tabuada do numero {i}')\n",
    "for num in lista:\n",
    "    print(i,'X',num,'=',(num*i))\n"
   ]
  },
  {
   "cell_type": "markdown",
   "metadata": {},
   "source": [
    "#Faça um programa que imprima na tela os números de 1 a 20, um abaixo do outro."
   ]
  },
  {
   "cell_type": "code",
   "execution_count": 9,
   "metadata": {},
   "outputs": [
    {
     "name": "stdout",
     "output_type": "stream",
     "text": [
      "1\n",
      "2\n",
      "3\n",
      "4\n",
      "5\n",
      "6\n",
      "7\n",
      "8\n",
      "9\n",
      "10\n",
      "11\n",
      "12\n",
      "13\n",
      "14\n",
      "15\n",
      "16\n",
      "17\n",
      "18\n",
      "19\n",
      "20\n"
     ]
    }
   ],
   "source": [
    "lista = range(1,21)\n",
    "for num in lista:\n",
    "    print(num)"
   ]
  },
  {
   "cell_type": "code",
   "execution_count": 12,
   "metadata": {},
   "outputs": [
    {
     "name": "stdout",
     "output_type": "stream",
     "text": [
      "[1, 2, 3, 4, 5, 6, 7, 8, 9, 10, 11, 12, 13, 14, 15, 16, 17, 18, 19, 20]\n"
     ]
    }
   ],
   "source": [
    "#horizontal\n",
    "intervalo = range (1,21)\n",
    "lista = []\n",
    "for num in intervalo:\n",
    "    lista.append (num)\n",
    "print(lista)"
   ]
  },
  {
   "cell_type": "code",
   "execution_count": 15,
   "metadata": {},
   "outputs": [
    {
     "name": "stdout",
     "output_type": "stream",
     "text": [
      "1\n",
      "3\n",
      "5\n",
      "7\n",
      "9\n",
      "11\n",
      "13\n",
      "15\n",
      "17\n",
      "19\n",
      "21\n",
      "23\n",
      "25\n",
      "27\n",
      "29\n",
      "31\n",
      "33\n",
      "35\n",
      "37\n",
      "39\n",
      "41\n",
      "43\n",
      "45\n",
      "47\n",
      "49\n"
     ]
    }
   ],
   "source": [
    "intervalo = range (1,51)\n",
    "for num in intervalo:\n",
    "    if num % 2 != 0:\n",
    "        print (num)"
   ]
  },
  {
   "cell_type": "markdown",
   "metadata": {},
   "source": [
    "###Exercício 10 - Faça um programa que receba dois números inteiros e gere os números inteiros que estão no intervalo compreendido por eles.\n"
   ]
  },
  {
   "cell_type": "code",
   "execution_count": 6,
   "metadata": {},
   "outputs": [],
   "source": [
    "inicio = int(input('Digite o numero inicial:'))\n",
    "fim = int(input('Digite o numero final:'))\n",
    "# garantir que o primeiro não seja m,rnor que o segundo\n",
    "if fim > inicio:\n",
    "    inicio, fim = fim, inicio\n",
    "lista = range ((inicio),fim + 1)\n",
    "for num in lista:\n",
    "    print(num)\n",
    "\n",
    "    "
   ]
  },
  {
   "cell_type": "code",
   "execution_count": null,
   "metadata": {},
   "outputs": [],
   "source": [
    "numero1 = int(input('Digite o primeiro numero:'))\n",
    "numero2 = int(input('Digite o segundo numero:'))\n",
    "numero3 = int(input('Digite o terceiro numero :'))\n",
    "numero4 = int(input('Digite o quarto numero:'))\n",
    "numero5 = int(input('Digite o quinto numero:'))\n"
   ]
  }
 ],
 "metadata": {
  "kernelspec": {
   "display_name": "Python 3",
   "language": "python",
   "name": "python3"
  },
  "language_info": {
   "codemirror_mode": {
    "name": "ipython",
    "version": 3
   },
   "file_extension": ".py",
   "mimetype": "text/x-python",
   "name": "python",
   "nbconvert_exporter": "python",
   "pygments_lexer": "ipython3",
   "version": "3.11.0"
  },
  "orig_nbformat": 4
 },
 "nbformat": 4,
 "nbformat_minor": 2
}
