{
 "cells": [
  {
   "cell_type": "code",
   "execution_count": 63,
   "metadata": {},
   "outputs": [],
   "source": [
    "## algoritmo Naive Bayes. Criar um modelo para prever se cliente será um bom pagador\n",
    "\n",
    "#importar as bibliotecas\n",
    "\n",
    "import pandas as pd\n",
    "from sklearn.model_selection import train_test_split\n",
    "from sklearn.naive_bayes import GaussianNB\n",
    "from sklearn.preprocessing import LabelEncoder\n",
    "from sklearn.metrics import confusion_matrix, accuracy_score\n",
    "\n"
   ]
  },
  {
   "cell_type": "code",
   "execution_count": 64,
   "metadata": {},
   "outputs": [
    {
     "name": "stdout",
     "output_type": "stream",
     "text": [
      "<class 'pandas.core.frame.DataFrame'>\n",
      "RangeIndex: 1000 entries, 0 to 999\n",
      "Data columns (total 21 columns):\n",
      " #   Column                  Non-Null Count  Dtype \n",
      "---  ------                  --------------  ----- \n",
      " 0   checking_status         1000 non-null   object\n",
      " 1   duration                1000 non-null   int64 \n",
      " 2   credit_history          1000 non-null   object\n",
      " 3   purpose                 1000 non-null   object\n",
      " 4   credit_amount           1000 non-null   int64 \n",
      " 5   savings_status          1000 non-null   object\n",
      " 6   employment              1000 non-null   object\n",
      " 7   installment_commitment  1000 non-null   int64 \n",
      " 8   personal_status         1000 non-null   object\n",
      " 9   other_parties           1000 non-null   object\n",
      " 10  residence_since         1000 non-null   int64 \n",
      " 11  property_magnitude      1000 non-null   object\n",
      " 12  age                     1000 non-null   int64 \n",
      " 13  other_payment_plans     1000 non-null   object\n",
      " 14  housing                 1000 non-null   object\n",
      " 15  existing_credits        1000 non-null   int64 \n",
      " 16  job                     1000 non-null   object\n",
      " 17  num_dependents          1000 non-null   int64 \n",
      " 18  own_telephone           1000 non-null   object\n",
      " 19  foreign_worker          1000 non-null   object\n",
      " 20  class                   1000 non-null   object\n",
      "dtypes: int64(7), object(14)\n",
      "memory usage: 164.2+ KB\n"
     ]
    },
    {
     "data": {
      "text/plain": [
       "(1000, 21)"
      ]
     },
     "execution_count": 64,
     "metadata": {},
     "output_type": "execute_result"
    }
   ],
   "source": [
    "##carregamento da base de dados e definição dos previsores(variaveis independentes - x ) e a classe (variavel dependente - y)\n",
    "\n",
    "## mapear o caminho e nome do arquivo\n",
    "\n",
    "path = 'C:\\\\Users\\\\FIC\\\\Documents\\\\Pedrosp\\\\003 - Arquivos\\\\Machine Learning-20231004T233515Z-001\\\\'\n",
    "file ='Credit.csv'\n",
    "\n",
    "# atribuir o arquivo a um dataframe\n",
    "\n",
    "credito = pd.read_csv(path + file)\n",
    "\n",
    "credito.head()\n",
    "credito.info()\n",
    "credito.shape"
   ]
  },
  {
   "cell_type": "code",
   "execution_count": 65,
   "metadata": {},
   "outputs": [],
   "source": [
    "#separação de dados\n",
    "previsores = credito.iloc[:,0:20].values\n",
    "classe = credito.iloc[:,20].values"
   ]
  },
  {
   "cell_type": "code",
   "execution_count": 66,
   "metadata": {},
   "outputs": [
    {
     "data": {
      "text/plain": [
       "array(['bad', 'good', 'good', 'good', 'bad', 'good', 'good', 'good',\n",
       "       'good', 'bad', 'bad', 'bad', 'good', 'bad', 'good', 'good', 'good',\n",
       "       'good', 'bad', 'good', 'bad', 'good', 'bad', 'good', 'good', 'bad',\n",
       "       'good', 'good', 'good', 'bad', 'good', 'good', 'good', 'good',\n",
       "       'good', 'bad', 'good', 'good', 'good', 'good', 'good', 'bad',\n",
       "       'good', 'good', 'good', 'bad', 'bad', 'bad', 'bad', 'bad', 'good',\n",
       "       'bad', 'good', 'good', 'good', 'good', 'bad', 'good', 'good',\n",
       "       'good', 'bad', 'good', 'good', 'good', 'good', 'good', 'good',\n",
       "       'good', 'bad', 'good', 'good', 'good', 'good', 'good', 'bad',\n",
       "       'good', 'good', 'good', 'good', 'good', 'good', 'good', 'good',\n",
       "       'bad', 'good', 'good', 'bad', 'bad', 'good', 'bad', 'good', 'good',\n",
       "       'good', 'good', 'good', 'good', 'good', 'good', 'good', 'good',\n",
       "       'good', 'good', 'good', 'bad', 'good', 'good', 'bad', 'bad',\n",
       "       'good', 'good', 'good', 'bad', 'good', 'good', 'bad', 'good',\n",
       "       'good', 'good', 'good', 'bad', 'bad', 'good', 'good', 'bad',\n",
       "       'good', 'good', 'good', 'good', 'good', 'good', 'good', 'good',\n",
       "       'bad', 'good', 'good', 'good', 'good', 'good', 'good', 'bad',\n",
       "       'bad', 'bad', 'good', 'bad', 'good', 'good', 'good', 'bad', 'bad',\n",
       "       'bad', 'good', 'good', 'good', 'good', 'good', 'good', 'good',\n",
       "       'good', 'good', 'good', 'bad', 'bad', 'bad', 'good', 'bad', 'bad',\n",
       "       'good', 'good', 'good', 'good', 'bad', 'good', 'bad', 'bad',\n",
       "       'good', 'good', 'good', 'bad', 'good', 'good', 'good', 'good',\n",
       "       'bad', 'bad', 'good', 'bad', 'good', 'good', 'good', 'good',\n",
       "       'good', 'bad', 'good', 'good', 'good', 'good', 'good', 'good',\n",
       "       'good', 'good', 'good', 'bad', 'bad', 'good', 'good', 'good',\n",
       "       'bad', 'good', 'good', 'good', 'bad', 'bad', 'bad', 'good', 'bad',\n",
       "       'good', 'good', 'bad', 'good', 'bad', 'bad', 'good', 'good',\n",
       "       'good', 'good', 'bad', 'good', 'bad', 'bad', 'good', 'good',\n",
       "       'good', 'good', 'good', 'bad', 'good', 'good', 'good', 'bad',\n",
       "       'bad', 'good', 'good', 'good', 'good', 'good', 'bad', 'good',\n",
       "       'good', 'good', 'good', 'good', 'bad', 'good', 'good', 'good',\n",
       "       'good', 'good', 'bad', 'good', 'good', 'bad', 'good', 'good',\n",
       "       'good', 'bad', 'bad', 'bad', 'good', 'good', 'good', 'good',\n",
       "       'good', 'good', 'good', 'bad', 'good', 'good', 'bad', 'good',\n",
       "       'good', 'good', 'good', 'good', 'good', 'good', 'good', 'good',\n",
       "       'good', 'good', 'good', 'good', 'good', 'good', 'good', 'good',\n",
       "       'good', 'bad', 'good', 'bad', 'good'], dtype='<U4')"
      ]
     },
     "execution_count": 66,
     "metadata": {},
     "output_type": "execute_result"
    }
   ],
   "source": [
    "##transformar os atributos categoricos em atributos numericos. Devemos passar o indice da coluna categorica e criar um objeto cada atributo. Na sequencia sera executado o processo de encoding\n",
    "## para registrar o teste\n",
    "\n",
    "## primeira coluna\n",
    "labelencoder1  = LabelEncoder()\n",
    "previsores[:,0] = labelencoder1.fit_transform(previsores[:,0])\n",
    "\n",
    "\n",
    "## coluna 2\n",
    "labelencoder2  = LabelEncoder()\n",
    "previsores[:,2] = labelencoder2.fit_transform(previsores[:,2])\n",
    "previsores[:,2]\n",
    "\n",
    "## coluna 3\n",
    "labelencoder3  = LabelEncoder()\n",
    "previsores[:,3] = labelencoder3.fit_transform(previsores[:,3])\n",
    "previsores[:,3]\n",
    "\n",
    "## coluna 5\n",
    "labelencoder5  = LabelEncoder()\n",
    "previsores[:,5] = labelencoder5.fit_transform(previsores[:,5])\n",
    "previsores[:,5]\n",
    "\n",
    "## coluna 6\n",
    "labelencoder6  = LabelEncoder()\n",
    "previsores[:,6] = labelencoder6.fit_transform(previsores[:,6])\n",
    "previsores[:,6]\n",
    "\n",
    "## coluna 8\n",
    "labelencoder8  = LabelEncoder()\n",
    "previsores[:,8] = labelencoder8.fit_transform(previsores[:,8])\n",
    "previsores[:,8]\n",
    "\n",
    "## coluna 9\n",
    "labelencoder9  = LabelEncoder()\n",
    "previsores[:,9] = labelencoder9.fit_transform(previsores[:,9])\n",
    "previsores[:,9]\n",
    "\n",
    "## coluna 11\n",
    "labelencoder11  = LabelEncoder()\n",
    "previsores[:,11] = labelencoder11.fit_transform(previsores[:,11])\n",
    "previsores[:,11]\n",
    "\n",
    "## coluna 13\n",
    "labelencoder13  = LabelEncoder()\n",
    "previsores[:,13] = labelencoder13.fit_transform(previsores[:,13])\n",
    "previsores[:,13]\n",
    "\n",
    "## coluna 14\n",
    "labelencoder14  = LabelEncoder()\n",
    "previsores[:,14] = labelencoder14.fit_transform(previsores[:,14])\n",
    "previsores[:,14]\n",
    "\n",
    "## coluna 16\n",
    "labelencoder16  = LabelEncoder()\n",
    "previsores[:,16] = labelencoder16.fit_transform(previsores[:,16])\n",
    "previsores[:,16]\n",
    "\n",
    "## coluna 18\n",
    "labelencoder18  = LabelEncoder()\n",
    "previsores[:,18] = labelencoder18.fit_transform(previsores[:,18])\n",
    "previsores[:,18]\n",
    "\n",
    "## coluna 19\n",
    "labelencoder19  = LabelEncoder()\n",
    "previsores[:,19] = labelencoder19.fit_transform(previsores[:,19])\n",
    "previsores[:,19]\n",
    "\n",
    "## divisão da  base de dados entre treinamento e teste - 30% para testar e 70 % para treinar\n",
    "\n",
    "X_treinamento, X_teste, y_treinamento, y_teste = train_test_split(previsores,\n",
    "                                                                  classe,\n",
    "                                                                  test_size = 0.3,\n",
    "                                                                  random_state = 0)\n",
    "\n",
    "## criação e treinamento do modelo (geração da tabela de probabilidade)\n",
    "\n",
    "naive_bayes = GaussianNB()\n",
    "naive_bayes.fit(X_treinamento, y_treinamento)\n",
    "\n",
    "## previsão utilizando os registros de teste\n",
    "previsoes = naive_bayes.predict(X_teste)\n",
    "previsoes\n",
    "\n"
   ]
  },
  {
   "cell_type": "code",
   "execution_count": 67,
   "metadata": {},
   "outputs": [],
   "source": [
    "##testar com um arquivo novo credito\n",
    "\n",
    "novo_credito = pd.read_csv(path + 'NovoCredit.csv')\n",
    "novo_credito.head()\n",
    "\n",
    "# Usamos o mesmo objeto que foi criado antes, para manter o padrão dos dados\n",
    "# Chamamos somente o método \"transform\", pois a adaptação aos dados (fit) já foi feita anteriormente\n",
    "novo_credito = novo_credito.iloc[:,0:20].values\n",
    "novo_credito[:,0] = labelencoder1.fit_transform(novo_credito[:,0])\n",
    "novo_credito[:,2] = labelencoder2.fit_transform(novo_credito[:,2])\n",
    "novo_credito[:,3] = labelencoder3.fit_transform(novo_credito[:,3])\n",
    "novo_credito[:,5] = labelencoder5.fit_transform(novo_credito[:,5])\n",
    "novo_credito[:,6] = labelencoder6.fit_transform(novo_credito[:,6])\n",
    "novo_credito[:,8] = labelencoder8.fit_transform(novo_credito[:,8])\n",
    "novo_credito[:,9] = labelencoder9.fit_transform(novo_credito[:,9])\n",
    "novo_credito[:,11] = labelencoder11.fit_transform(novo_credito[:,11])\n",
    "novo_credito[:,13] = labelencoder13.fit_transform(novo_credito[:,13])\n",
    "novo_credito[:,14] = labelencoder14.fit_transform(novo_credito[:,14])\n",
    "novo_credito[:,16] = labelencoder16.fit_transform(novo_credito[:,16])\n",
    "novo_credito[:,18] = labelencoder18.fit_transform(novo_credito[:,18])\n",
    "novo_credito[:,19] = labelencoder19.fit_transform(novo_credito[:,19])"
   ]
  },
  {
   "cell_type": "code",
   "execution_count": 68,
   "metadata": {},
   "outputs": [
    {
     "data": {
      "text/plain": [
       "array(['good'], dtype='<U4')"
      ]
     },
     "execution_count": 68,
     "metadata": {},
     "output_type": "execute_result"
    }
   ],
   "source": [
    "#resultado da previsão\n",
    "naive_bayes.predict(novo_credito)"
   ]
  }
 ],
 "metadata": {
  "kernelspec": {
   "display_name": "Python 3",
   "language": "python",
   "name": "python3"
  },
  "language_info": {
   "codemirror_mode": {
    "name": "ipython",
    "version": 3
   },
   "file_extension": ".py",
   "mimetype": "text/x-python",
   "name": "python",
   "nbconvert_exporter": "python",
   "pygments_lexer": "ipython3",
   "version": "3.11.0"
  },
  "orig_nbformat": 4
 },
 "nbformat": 4,
 "nbformat_minor": 2
}
