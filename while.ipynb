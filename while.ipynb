{
 "cells": [
  {
   "cell_type": "markdown",
   "metadata": {},
   "source": [
    "#Exercício 01 - Escreva um programa que imprima todos os números pares de 1a 100. (FOR)"
   ]
  },
  {
   "cell_type": "code",
   "execution_count": 58,
   "metadata": {},
   "outputs": [
    {
     "name": "stdout",
     "output_type": "stream",
     "text": [
      "2\n",
      "4\n",
      "6\n",
      "8\n",
      "10\n",
      "12\n",
      "14\n",
      "16\n",
      "18\n",
      "20\n",
      "22\n",
      "24\n",
      "26\n",
      "28\n",
      "30\n",
      "32\n",
      "34\n",
      "36\n",
      "38\n",
      "40\n",
      "42\n",
      "44\n",
      "46\n",
      "48\n",
      "50\n",
      "52\n",
      "54\n",
      "56\n",
      "58\n",
      "60\n",
      "62\n",
      "64\n",
      "66\n",
      "68\n",
      "70\n",
      "72\n",
      "74\n",
      "76\n",
      "78\n",
      "80\n",
      "82\n",
      "84\n",
      "86\n",
      "88\n",
      "90\n",
      "92\n",
      "94\n",
      "96\n",
      "98\n",
      "100\n"
     ]
    }
   ],
   "source": [
    "numeros = range(1 , 101) #criando um intervalo de 1 a 100\n",
    "for num in numeros:\n",
    "    if num % 2 == 0:\n",
    "        print(num)\n",
    "        \n",
    "\n"
   ]
  },
  {
   "cell_type": "markdown",
   "metadata": {},
   "source": [
    "#Exercício 02 - Crie um programa que conte quantas vezes a letra 'a' aparece em uma frase inserida pelo usuário. (FOR e IF)"
   ]
  },
  {
   "cell_type": "code",
   "execution_count": 59,
   "metadata": {},
   "outputs": [
    {
     "name": "stdout",
     "output_type": "stream",
     "text": [
      "1\n",
      "a frase contem 0 letras a\n"
     ]
    }
   ],
   "source": [
    "frase = input('Digite algo aqui: ')\n",
    "print(frase)\n",
    "frase = frase.lower()\n",
    "contador = 0\n",
    "for letra in frase:\n",
    "    if letra == 'a':\n",
    "        contador = contador + 1\n",
    "print(f'a frase contem {contador} letras a')  \n",
    "     \n",
    "\n",
    "\n"
   ]
  },
  {
   "cell_type": "markdown",
   "metadata": {},
   "source": [
    "#Lista 3 - Exercício 14 - Faça um programa que peça 10 números inteiros, calcule e mostre a quantidade de números pares e a quantidade de números ímpares."
   ]
  },
  {
   "cell_type": "code",
   "execution_count": 64,
   "metadata": {},
   "outputs": [
    {
     "name": "stdout",
     "output_type": "stream",
     "text": [
      "Neste conjunto de numeros, contem 3 numeros impares\n",
      "Neste conjunto de numeros, contem 7 numeros pares\n"
     ]
    }
   ],
   "source": [
    "numeros = []\n",
    "\n",
    "i = 1\n",
    "\n",
    "while i <= 10:\n",
    "    numero = int(input('Digite um numero inteiro: '))\n",
    "    numeros.append(numero)\n",
    "    i += 1\n",
    "\n",
    "impar = 0\n",
    "par = 0\n",
    "\n",
    "for num in numeros:\n",
    "\n",
    "    if num % 2 != 0:\n",
    "\n",
    "        impar += 1\n",
    "    else:\n",
    "        par += 1\n",
    "\n",
    "print(f'Neste conjunto de numeros, contem {impar} numeros impares')\n",
    "print(f'Neste conjunto de numeros, contem {par} numeros pares')\n",
    "\n",
    "\n"
   ]
  },
  {
   "cell_type": "code",
   "execution_count": 61,
   "metadata": {},
   "outputs": [
    {
     "ename": "ValueError",
     "evalue": "invalid literal for int() with base 10: ''",
     "output_type": "error",
     "traceback": [
      "\u001b[1;31m---------------------------------------------------------------------------\u001b[0m",
      "\u001b[1;31mValueError\u001b[0m                                Traceback (most recent call last)",
      "Cell \u001b[1;32mIn[61], line 6\u001b[0m\n\u001b[0;32m      3\u001b[0m i \u001b[39m=\u001b[39m \u001b[39m1\u001b[39m\n\u001b[0;32m      5\u001b[0m \u001b[39mwhile\u001b[39;00m i \u001b[39m<\u001b[39m\u001b[39m=\u001b[39m \u001b[39m10\u001b[39m:\n\u001b[1;32m----> 6\u001b[0m     numero \u001b[39m=\u001b[39m \u001b[39mint\u001b[39;49m(\u001b[39minput\u001b[39;49m(\u001b[39m'\u001b[39;49m\u001b[39mDigite numero\u001b[39;49m\u001b[39m'\u001b[39;49m))\n\u001b[0;32m      7\u001b[0m     lista\u001b[39m.\u001b[39mappend(numero)\n\u001b[0;32m      9\u001b[0m     i \u001b[39m+\u001b[39m\u001b[39m=\u001b[39m \u001b[39m1\u001b[39m\n",
      "\u001b[1;31mValueError\u001b[0m: invalid literal for int() with base 10: ''"
     ]
    }
   ],
   "source": [
    "lista = []\n",
    "\n",
    "i = 1\n",
    "\n",
    "while i <= 10:\n",
    "    numero = int(input('Digite numero'))\n",
    "    lista.append(numero)\n",
    "\n",
    "    i += 1\n",
    "\n",
    "print(lista)\n"
   ]
  },
  {
   "cell_type": "markdown",
   "metadata": {},
   "source": [
    "## Exercício 08 - Faça um programa que leia 5 números e informe a soma e a média dos números.\n"
   ]
  },
  {
   "cell_type": "code",
   "execution_count": 5,
   "metadata": {},
   "outputs": [
    {
     "name": "stdout",
     "output_type": "stream",
     "text": [
      "A lista contem os seguintes numeros:  [1963.0, 1965.0, 1989.0, 1990.0, 1992.0]\n",
      "A lista contem 5 numeros\n",
      "A soma dos valores é:  9899.0\n",
      "A media dos valores é:  1979.8\n"
     ]
    }
   ],
   "source": [
    "lista_numeros = []\n",
    "\n",
    "i = 0\n",
    "\n",
    "while i < 5:\n",
    "    numero = float(input('Digite um valor: '))\n",
    "    lista_numeros.append(numero)\n",
    "\n",
    "    i += 1\n",
    "\n",
    "print('A lista contem os seguintes numeros: ', lista_numeros)\n",
    "print (f'A lista contem {i} numeros')\n",
    "\n",
    "soma = 0\n",
    "\n",
    "for x in lista_numeros:\n",
    "    soma = soma + x\n",
    "\n",
    "print('A soma dos valores é: ', soma)\n",
    "\n",
    "media = 0\n",
    "media = soma / i\n",
    "\n",
    "print('A media dos valores é: ', media)\n",
    "\n"
   ]
  },
  {
   "cell_type": "markdown",
   "metadata": {},
   "source": [
    "### Exercício 17 - Faça um programa que calcule o fatorial de um número inteiro fornecido pelo usuário. Ex.: 5!=5.4.3.2.1=120\n"
   ]
  },
  {
   "cell_type": "code",
   "execution_count": 11,
   "metadata": {},
   "outputs": [
    {
     "name": "stdout",
     "output_type": "stream",
     "text": [
      "120\n"
     ]
    }
   ],
   "source": [
    "i = int(input('Digite um valor: '))\n",
    "\n",
    "fatorial = i\n",
    "\n",
    "while i >= 1:\n",
    "    i = i - 1\n",
    "    \n",
    "    if i != 0:\n",
    "        fatorial = fatorial * i\n",
    "\n",
    "print(fatorial)\n",
    "\n",
    "\n",
    "\n"
   ]
  },
  {
   "cell_type": "markdown",
   "metadata": {},
   "source": [
    "## Exercício 03 - Faça um programa que calcule a soma dos números de 1 a 100.(FOR)"
   ]
  },
  {
   "cell_type": "code",
   "execution_count": 15,
   "metadata": {},
   "outputs": [
    {
     "name": "stdout",
     "output_type": "stream",
     "text": [
      "A soma é:  5050\n"
     ]
    }
   ],
   "source": [
    "#criando uma lista de 1 a 100\n",
    "numero = range(1,101)\n",
    "soma = 0\n",
    "\n",
    "for num in numero:\n",
    "    soma = soma + num\n",
    "\n",
    "print('A soma é: ' , soma)\n"
   ]
  },
  {
   "cell_type": "markdown",
   "metadata": {},
   "source": [
    "## Exercício 04 - Crie um programa que solicite ao usuário que digite uma senha e continue pedindo até que a senha digitada seja igual a \"12345\". Quando a senha for correta, exiba uma mensagem de boas-vindas. (WHILE)"
   ]
  },
  {
   "cell_type": "code",
   "execution_count": 18,
   "metadata": {},
   "outputs": [
    {
     "name": "stdout",
     "output_type": "stream",
     "text": [
      "Seja bem-vindo!\n"
     ]
    }
   ],
   "source": [
    "senha = input('Digite uma senha')\n",
    "\n",
    "while senha != '12345':\n",
    "    senha = input('Digite uma senha')\n",
    "\n",
    "print('Seja bem-vindo!')\n",
    "\n"
   ]
  }
 ],
 "metadata": {
  "kernelspec": {
   "display_name": "Python 3",
   "language": "python",
   "name": "python3"
  },
  "language_info": {
   "codemirror_mode": {
    "name": "ipython",
    "version": 3
   },
   "file_extension": ".py",
   "mimetype": "text/x-python",
   "name": "python",
   "nbconvert_exporter": "python",
   "pygments_lexer": "ipython3",
   "version": "3.11.0"
  },
  "orig_nbformat": 4
 },
 "nbformat": 4,
 "nbformat_minor": 2
}
